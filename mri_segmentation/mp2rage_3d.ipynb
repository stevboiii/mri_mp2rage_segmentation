{
  "cells": [
    {
      "cell_type": "code",
      "execution_count": 1,
      "id": "5bb802c2",
      "metadata": {
        "id": "5bb802c2"
      },
      "outputs": [],
      "source": [
        "import torch\n",
        "import torch.nn as nn\n",
        "import scipy.ndimage as ndi\n",
        "import torchvision.transforms as T\n",
        "from torch.utils.data import DataLoader, Dataset, Subset\n",
        "import os\n",
        "import nibabel as nib\n",
        "import numpy as np\n",
        "from skimage.filters import threshold_otsu\n",
        "from skimage.morphology import closing, remove_small_objects, disk, ball\n",
        "from scipy.ndimage import binary_fill_holes, label\n",
        "import matplotlib.pyplot as plt\n",
        "from tqdm import tqdm\n",
        "from google.colab import drive\n",
        "from torch.cuda.amp import GradScaler, autocast"
      ]
    },
    {
      "cell_type": "code",
      "execution_count": 2,
      "id": "06bccbf7",
      "metadata": {
        "id": "06bccbf7"
      },
      "outputs": [],
      "source": [
        "#Generate a 3D binary mask using Otsu thresholding and morphological operations.\n",
        "def create_foreground_mask(volume):\n",
        "    mask = np.zeros_like(volume, dtype=np.uint8)\n",
        "\n",
        "    for i in range(volume.shape[0]):  # iterate over axial slices\n",
        "        slice_img = volume[i, :, :]\n",
        "\n",
        "        # Normalize to [0, 1] for consistent thresholding\n",
        "        slice_norm = (slice_img - slice_img.min()) / (slice_img.ptp() + 1e-5)\n",
        "\n",
        "        # Otsu thresholding\n",
        "        thresh = threshold_otsu(slice_norm)\n",
        "        binary = slice_norm > thresh\n",
        "\n",
        "        # Morphological cleanup\n",
        "        binary = closing(binary, disk(3))\n",
        "        binary = binary_fill_holes(binary)\n",
        "        binary = remove_small_objects(binary, min_size=100)\n",
        "\n",
        "        mask[i, :, :] = binary.astype(np.uint8)\n",
        "\n",
        "    return mask\n",
        "\n",
        "#Save the mask as a .nii.gz file with the same affine and header as the input image.\n",
        "def save_mask(mask, reference_nii, output_path):\n",
        "    mask_nifti = nib.Nifti1Image(mask.astype(np.uint8), affine=reference_nii.affine, header=reference_nii.header)\n",
        "    nib.save(mask_nifti, output_path)\n",
        "\n",
        "def create_mask(img_data):\n",
        "    # 1) Threshold to remove air/background\n",
        "    mask0 = img_data > (0.05 * img_data.max())\n",
        "\n",
        "    mask1 = closing(mask0, ball(radius=3))\n",
        "\n",
        "    # 2) Keep only the largest connected component (the head)\n",
        "    labels, n = ndi.label(mask1)\n",
        "    sizes = ndi.sum(mask1, labels, range(1, n+1))\n",
        "    largest = np.argmax(sizes) + 1\n",
        "    whole_head_mask = (labels == largest).astype(np.uint8)\n",
        "    return whole_head_mask\n",
        "\n"
      ]
    },
    {
      "cell_type": "code",
      "source": [
        "drive.mount('/content/drive')\n",
        "\n",
        "file_path = '/content/drive/My Drive/folder_name/your_file.csv'\n"
      ],
      "metadata": {
        "id": "OihRMZoCQdLB",
        "colab": {
          "base_uri": "https://localhost:8080/"
        },
        "outputId": "370f75f2-8734-4444-ed97-994955f260c0"
      },
      "id": "OihRMZoCQdLB",
      "execution_count": 3,
      "outputs": [
        {
          "output_type": "stream",
          "name": "stdout",
          "text": [
            "Mounted at /content/drive\n"
          ]
        }
      ]
    },
    {
      "cell_type": "code",
      "execution_count": null,
      "id": "83c2fcea",
      "metadata": {
        "id": "83c2fcea"
      },
      "outputs": [],
      "source": [
        "#generate masks for every inv2 volume\n",
        "def process_all_nii(input_folder, output_folder):\n",
        "    os.makedirs(output_folder, exist_ok=True)\n",
        "    nii_files = [f for f in os.listdir(input_folder) if f.endswith(\".nii.gz\")]\n",
        "\n",
        "    for f in tqdm(nii_files, desc=\"Processing subjects\"):\n",
        "        input_path = os.path.join(input_folder, f)\n",
        "        output_path = os.path.join(output_folder, f.replace(\".nii.gz\", \"_mask.nii.gz\"))\n",
        "\n",
        "        nii = nib.load(input_path)\n",
        "        vol = nii.get_fdata()\n",
        "\n",
        "        mask = create_mask(vol)\n",
        "        save_mask(mask, nii, output_path)\n",
        "\n",
        "    print(f\"\\nDone! {len(nii_files)} mask(s) saved to: {output_folder}\")\n",
        "\n",
        "input_folder = \"/content/drive/My Drive/lemon_data/inv2_volumes\"\n",
        "output_folder = \"/content/drive/My Drive/lemon_data/inv2_masks\"\n",
        "\n",
        "process_all_nii(input_folder, output_folder)"
      ]
    },
    {
      "cell_type": "code",
      "execution_count": 5,
      "id": "7efa7948",
      "metadata": {
        "id": "7efa7948",
        "colab": {
          "base_uri": "https://localhost:8080/"
        },
        "outputId": "80305e42-ffa9-4073-bc24-852050ffcc15"
      },
      "outputs": [
        {
          "output_type": "stream",
          "name": "stderr",
          "text": [
            "/usr/local/lib/python3.11/dist-packages/torch/utils/data/dataloader.py:624: UserWarning: This DataLoader will create 4 worker processes in total. Our suggested max number of worker in current system is 2, which is smaller than what this DataLoader is going to create. Please be aware that excessive worker creation might get DataLoader running slow or even freeze, lower the worker number to avoid potential slowness/freeze if necessary.\n",
            "  warnings.warn(\n"
          ]
        }
      ],
      "source": [
        "#dataset of nii.gz files\n",
        "class NiftiDataset3D(Dataset):\n",
        "    def __init__(self, image_dir, mask_dir, transform=None):\n",
        "        self.image_paths = sorted([os.path.join(image_dir, f) for f in os.listdir(image_dir) if f.endswith('.nii') or f.endswith('.nii.gz')])\n",
        "        self.mask_paths = sorted([os.path.join(mask_dir, f) for f in os.listdir(mask_dir) if f.endswith('.nii') or f.endswith('.nii.gz')])\n",
        "        self.transform = transform   #none for now\n",
        "\n",
        "    def __len__(self):\n",
        "        return len(self.image_paths)\n",
        "\n",
        "    def __getitem__(self, idx):\n",
        "        img = nib.load(self.image_paths[idx]).get_fdata()\n",
        "        mask = nib.load(self.mask_paths[idx]).get_fdata()\n",
        "\n",
        "        img = np.expand_dims(img, axis=0)  # [1, D, H, W]\n",
        "        mask = np.expand_dims(mask, axis=0)  # [1, D, H, W]\n",
        "\n",
        "        img = torch.tensor(img, dtype=torch.float32)\n",
        "        mask = torch.tensor(mask, dtype=torch.float32)\n",
        "\n",
        "        if self.transform:\n",
        "            img, mask = self.transform(img, mask)\n",
        "\n",
        "        return img, mask\n",
        "#image and mask\n",
        "image_dir = '/content/drive/My Drive/lemon_data/inv2_volumes'  # Folder of .nii.gz volumes\n",
        "mask_dir = '/content/drive/My Drive/lemon_data/inv2_masks'    # Corresponding masks\n",
        "\n",
        "dataset = NiftiDataset3D(image_dir, mask_dir)\n",
        "loader = DataLoader(dataset, batch_size=1, shuffle=True, num_workers=4, pin_memory=True)"
      ]
    },
    {
      "cell_type": "code",
      "execution_count": 6,
      "id": "f1616e8a",
      "metadata": {
        "id": "f1616e8a"
      },
      "outputs": [],
      "source": [
        "#convolution block for a u-net\n",
        "class ConvBlock3D(nn.Module):\n",
        "    def __init__(self, in_channels, out_channels):\n",
        "        super().__init__()\n",
        "        self.block = nn.Sequential(\n",
        "            nn.Conv3d(in_channels, out_channels, 3, padding=1),\n",
        "            nn.BatchNorm3d(out_channels),\n",
        "            nn.ReLU(inplace=True),\n",
        "            nn.Conv3d(out_channels, out_channels, 3, padding=1),\n",
        "            nn.BatchNorm3d(out_channels),\n",
        "            nn.ReLU(inplace=True)\n",
        "        )\n",
        "\n",
        "    def forward(self, x):\n",
        "        return self.block(x)\n",
        "\n",
        "#3D U-net class\n",
        "class UNet3D(nn.Module):\n",
        "    def __init__(self, in_channels=1, out_channels=1):\n",
        "        super().__init__()\n",
        "        self.enc1 = ConvBlock3D(in_channels, 32)\n",
        "        self.pool1 = nn.MaxPool3d(2)\n",
        "\n",
        "        self.enc2 = ConvBlock3D(32, 64)\n",
        "        self.pool2 = nn.MaxPool3d(2)\n",
        "\n",
        "        self.bottleneck = ConvBlock3D(64, 128)\n",
        "\n",
        "        self.upconv2 = nn.ConvTranspose3d(128, 64, 2, stride=2)\n",
        "        self.dec2 = ConvBlock3D(128, 64)\n",
        "\n",
        "        self.upconv1 = nn.ConvTranspose3d(64, 32, 2, stride=2)\n",
        "        self.dec1 = ConvBlock3D(64, 32)\n",
        "\n",
        "        self.final = nn.Conv3d(32, out_channels, kernel_size=1)\n",
        "\n",
        "    def forward(self, x):\n",
        "        e1 = self.enc1(x)\n",
        "        e2 = self.enc2(self.pool1(e1))\n",
        "        b = self.bottleneck(self.pool2(e2))\n",
        "\n",
        "        d2 = self.upconv2(b)\n",
        "        d2 = torch.cat([d2, e2], dim=1)\n",
        "        d2 = self.dec2(d2)\n",
        "\n",
        "        d1 = self.upconv1(d2)\n",
        "        d1 = torch.cat([d1, e1], dim=1)\n",
        "        d1 = self.dec1(d1)\n",
        "\n",
        "        return self.final(d1)"
      ]
    },
    {
      "cell_type": "code",
      "source": [
        "#loss function: dice loss\n",
        "def dice_loss(pred, target, smooth=1e-5):\n",
        "    pred = torch.sigmoid(pred)  # if using raw logits\n",
        "    pred_flat = pred.contiguous().view(-1)\n",
        "    target_flat = target.contiguous().view(-1).float()\n",
        "    intersection = (pred_flat * target_flat).sum()\n",
        "    return 1 - (2. * intersection + smooth) / (pred_flat.sum() + target_flat.sum() + smooth)"
      ],
      "metadata": {
        "id": "zTSDbT5KPydd"
      },
      "id": "zTSDbT5KPydd",
      "execution_count": 7,
      "outputs": []
    },
    {
      "cell_type": "code",
      "source": [
        "#use gpu\n",
        "device = torch.device(\"cuda\" if torch.cuda.is_available() else \"cpu\")\n",
        "#3d U-net\n",
        "model = UNet3D().to(device)\n",
        "#Adam optimizer\n",
        "optimizer = torch.optim.Adam(model.parameters(), lr=1e-4)"
      ],
      "metadata": {
        "id": "zcjTMucyP7S9"
      },
      "id": "zcjTMucyP7S9",
      "execution_count": 8,
      "outputs": []
    },
    {
      "cell_type": "code",
      "source": [
        "#training loop\n",
        "def train(epochs, accumulate_grad_batches=4):\n",
        "    model.train()\n",
        "    scaler = GradScaler()  # Initialize GradScaler for mixed precision\n",
        "    for epoch in range(epochs):\n",
        "        total_loss = 0\n",
        "        optimizer.zero_grad()\n",
        "        for i, (imgs, masks) in enumerate(loader):\n",
        "            imgs, masks = imgs.to(device), masks.to(device)\n",
        "\n",
        "            with autocast():  # Autocast for mixed precision\n",
        "                outputs = model(imgs)\n",
        "                loss = dice_loss(outputs, masks)\n",
        "                loss = loss / accumulate_grad_batches\n",
        "\n",
        "            scaler.scale(loss).backward()  # Scale the loss and call backward()\n",
        "\n",
        "            if (i + 1) % accumulate_grad_batches == 0:\n",
        "                scaler.step(optimizer)  # Optimizer step with scaler\n",
        "                scaler.update()  # Update the scaler\n",
        "                optimizer.zero_grad()\n",
        "\n",
        "            total_loss += loss.item() * accumulate_grad_batches\n",
        "\n",
        "        if (i + 1) % accumulate_grad_batches != 0:\n",
        "            scaler.step(optimizer)\n",
        "            scaler.update()\n",
        "            optimizer.zero_grad()\n",
        "\n",
        "        print(f\"Epoch {epoch+1}: Loss = {total_loss/len(loader):.4f}\")"
      ],
      "metadata": {
        "id": "N09qM8BLP-Ni"
      },
      "id": "N09qM8BLP-Ni",
      "execution_count": 9,
      "outputs": []
    },
    {
      "cell_type": "code",
      "source": [
        "#train and save parameters\n",
        "train(5)\n",
        "torch.save(model.state_dict(), '/content/drive/My Drive/Colab Notebooks/3d_segmentation.pth')"
      ],
      "metadata": {
        "colab": {
          "base_uri": "https://localhost:8080/"
        },
        "id": "-t26zQudQDum",
        "outputId": "6ec25963-c957-4dcf-9c43-4a6ab270d3b9"
      },
      "id": "-t26zQudQDum",
      "execution_count": 23,
      "outputs": [
        {
          "output_type": "stream",
          "name": "stderr",
          "text": [
            "/tmp/ipython-input-21-4199689982.py:5: FutureWarning: `torch.cuda.amp.GradScaler(args...)` is deprecated. Please use `torch.amp.GradScaler('cuda', args...)` instead.\n",
            "  scaler = GradScaler()  # Initialize GradScaler for mixed precision\n",
            "/usr/local/lib/python3.11/dist-packages/torch/utils/data/dataloader.py:624: UserWarning: This DataLoader will create 4 worker processes in total. Our suggested max number of worker in current system is 2, which is smaller than what this DataLoader is going to create. Please be aware that excessive worker creation might get DataLoader running slow or even freeze, lower the worker number to avoid potential slowness/freeze if necessary.\n",
            "  warnings.warn(\n",
            "/tmp/ipython-input-21-4199689982.py:12: FutureWarning: `torch.cuda.amp.autocast(args...)` is deprecated. Please use `torch.amp.autocast('cuda', args...)` instead.\n",
            "  with autocast():  # Autocast for mixed precision\n",
            "/tmp/ipython-input-21-4199689982.py:12: FutureWarning: `torch.cuda.amp.autocast(args...)` is deprecated. Please use `torch.amp.autocast('cuda', args...)` instead.\n",
            "  with autocast():  # Autocast for mixed precision\n",
            "/tmp/ipython-input-21-4199689982.py:12: FutureWarning: `torch.cuda.amp.autocast(args...)` is deprecated. Please use `torch.amp.autocast('cuda', args...)` instead.\n",
            "  with autocast():  # Autocast for mixed precision\n",
            "/tmp/ipython-input-21-4199689982.py:12: FutureWarning: `torch.cuda.amp.autocast(args...)` is deprecated. Please use `torch.amp.autocast('cuda', args...)` instead.\n",
            "  with autocast():  # Autocast for mixed precision\n",
            "/tmp/ipython-input-21-4199689982.py:12: FutureWarning: `torch.cuda.amp.autocast(args...)` is deprecated. Please use `torch.amp.autocast('cuda', args...)` instead.\n",
            "  with autocast():  # Autocast for mixed precision\n",
            "/tmp/ipython-input-21-4199689982.py:12: FutureWarning: `torch.cuda.amp.autocast(args...)` is deprecated. Please use `torch.amp.autocast('cuda', args...)` instead.\n",
            "  with autocast():  # Autocast for mixed precision\n",
            "/tmp/ipython-input-21-4199689982.py:12: FutureWarning: `torch.cuda.amp.autocast(args...)` is deprecated. Please use `torch.amp.autocast('cuda', args...)` instead.\n",
            "  with autocast():  # Autocast for mixed precision\n",
            "/tmp/ipython-input-21-4199689982.py:12: FutureWarning: `torch.cuda.amp.autocast(args...)` is deprecated. Please use `torch.amp.autocast('cuda', args...)` instead.\n",
            "  with autocast():  # Autocast for mixed precision\n",
            "/tmp/ipython-input-21-4199689982.py:12: FutureWarning: `torch.cuda.amp.autocast(args...)` is deprecated. Please use `torch.amp.autocast('cuda', args...)` instead.\n",
            "  with autocast():  # Autocast for mixed precision\n",
            "/tmp/ipython-input-21-4199689982.py:12: FutureWarning: `torch.cuda.amp.autocast(args...)` is deprecated. Please use `torch.amp.autocast('cuda', args...)` instead.\n",
            "  with autocast():  # Autocast for mixed precision\n",
            "/tmp/ipython-input-21-4199689982.py:12: FutureWarning: `torch.cuda.amp.autocast(args...)` is deprecated. Please use `torch.amp.autocast('cuda', args...)` instead.\n",
            "  with autocast():  # Autocast for mixed precision\n",
            "/tmp/ipython-input-21-4199689982.py:12: FutureWarning: `torch.cuda.amp.autocast(args...)` is deprecated. Please use `torch.amp.autocast('cuda', args...)` instead.\n",
            "  with autocast():  # Autocast for mixed precision\n",
            "/tmp/ipython-input-21-4199689982.py:12: FutureWarning: `torch.cuda.amp.autocast(args...)` is deprecated. Please use `torch.amp.autocast('cuda', args...)` instead.\n",
            "  with autocast():  # Autocast for mixed precision\n",
            "/tmp/ipython-input-21-4199689982.py:12: FutureWarning: `torch.cuda.amp.autocast(args...)` is deprecated. Please use `torch.amp.autocast('cuda', args...)` instead.\n",
            "  with autocast():  # Autocast for mixed precision\n",
            "/tmp/ipython-input-21-4199689982.py:12: FutureWarning: `torch.cuda.amp.autocast(args...)` is deprecated. Please use `torch.amp.autocast('cuda', args...)` instead.\n",
            "  with autocast():  # Autocast for mixed precision\n",
            "/tmp/ipython-input-21-4199689982.py:12: FutureWarning: `torch.cuda.amp.autocast(args...)` is deprecated. Please use `torch.amp.autocast('cuda', args...)` instead.\n",
            "  with autocast():  # Autocast for mixed precision\n"
          ]
        },
        {
          "output_type": "stream",
          "name": "stdout",
          "text": [
            "Epoch 1: Loss = 0.4591\n"
          ]
        },
        {
          "output_type": "stream",
          "name": "stderr",
          "text": [
            "/usr/local/lib/python3.11/dist-packages/torch/utils/data/dataloader.py:624: UserWarning: This DataLoader will create 4 worker processes in total. Our suggested max number of worker in current system is 2, which is smaller than what this DataLoader is going to create. Please be aware that excessive worker creation might get DataLoader running slow or even freeze, lower the worker number to avoid potential slowness/freeze if necessary.\n",
            "  warnings.warn(\n",
            "/tmp/ipython-input-21-4199689982.py:12: FutureWarning: `torch.cuda.amp.autocast(args...)` is deprecated. Please use `torch.amp.autocast('cuda', args...)` instead.\n",
            "  with autocast():  # Autocast for mixed precision\n",
            "/tmp/ipython-input-21-4199689982.py:12: FutureWarning: `torch.cuda.amp.autocast(args...)` is deprecated. Please use `torch.amp.autocast('cuda', args...)` instead.\n",
            "  with autocast():  # Autocast for mixed precision\n",
            "/tmp/ipython-input-21-4199689982.py:12: FutureWarning: `torch.cuda.amp.autocast(args...)` is deprecated. Please use `torch.amp.autocast('cuda', args...)` instead.\n",
            "  with autocast():  # Autocast for mixed precision\n",
            "/tmp/ipython-input-21-4199689982.py:12: FutureWarning: `torch.cuda.amp.autocast(args...)` is deprecated. Please use `torch.amp.autocast('cuda', args...)` instead.\n",
            "  with autocast():  # Autocast for mixed precision\n",
            "/tmp/ipython-input-21-4199689982.py:12: FutureWarning: `torch.cuda.amp.autocast(args...)` is deprecated. Please use `torch.amp.autocast('cuda', args...)` instead.\n",
            "  with autocast():  # Autocast for mixed precision\n",
            "/tmp/ipython-input-21-4199689982.py:12: FutureWarning: `torch.cuda.amp.autocast(args...)` is deprecated. Please use `torch.amp.autocast('cuda', args...)` instead.\n",
            "  with autocast():  # Autocast for mixed precision\n",
            "/tmp/ipython-input-21-4199689982.py:12: FutureWarning: `torch.cuda.amp.autocast(args...)` is deprecated. Please use `torch.amp.autocast('cuda', args...)` instead.\n",
            "  with autocast():  # Autocast for mixed precision\n",
            "/tmp/ipython-input-21-4199689982.py:12: FutureWarning: `torch.cuda.amp.autocast(args...)` is deprecated. Please use `torch.amp.autocast('cuda', args...)` instead.\n",
            "  with autocast():  # Autocast for mixed precision\n",
            "/tmp/ipython-input-21-4199689982.py:12: FutureWarning: `torch.cuda.amp.autocast(args...)` is deprecated. Please use `torch.amp.autocast('cuda', args...)` instead.\n",
            "  with autocast():  # Autocast for mixed precision\n",
            "/tmp/ipython-input-21-4199689982.py:12: FutureWarning: `torch.cuda.amp.autocast(args...)` is deprecated. Please use `torch.amp.autocast('cuda', args...)` instead.\n",
            "  with autocast():  # Autocast for mixed precision\n",
            "/tmp/ipython-input-21-4199689982.py:12: FutureWarning: `torch.cuda.amp.autocast(args...)` is deprecated. Please use `torch.amp.autocast('cuda', args...)` instead.\n",
            "  with autocast():  # Autocast for mixed precision\n",
            "/tmp/ipython-input-21-4199689982.py:12: FutureWarning: `torch.cuda.amp.autocast(args...)` is deprecated. Please use `torch.amp.autocast('cuda', args...)` instead.\n",
            "  with autocast():  # Autocast for mixed precision\n",
            "/tmp/ipython-input-21-4199689982.py:12: FutureWarning: `torch.cuda.amp.autocast(args...)` is deprecated. Please use `torch.amp.autocast('cuda', args...)` instead.\n",
            "  with autocast():  # Autocast for mixed precision\n",
            "/tmp/ipython-input-21-4199689982.py:12: FutureWarning: `torch.cuda.amp.autocast(args...)` is deprecated. Please use `torch.amp.autocast('cuda', args...)` instead.\n",
            "  with autocast():  # Autocast for mixed precision\n",
            "/tmp/ipython-input-21-4199689982.py:12: FutureWarning: `torch.cuda.amp.autocast(args...)` is deprecated. Please use `torch.amp.autocast('cuda', args...)` instead.\n",
            "  with autocast():  # Autocast for mixed precision\n",
            "/tmp/ipython-input-21-4199689982.py:12: FutureWarning: `torch.cuda.amp.autocast(args...)` is deprecated. Please use `torch.amp.autocast('cuda', args...)` instead.\n",
            "  with autocast():  # Autocast for mixed precision\n"
          ]
        },
        {
          "output_type": "stream",
          "name": "stdout",
          "text": [
            "Epoch 2: Loss = 0.3857\n"
          ]
        },
        {
          "output_type": "stream",
          "name": "stderr",
          "text": [
            "/usr/local/lib/python3.11/dist-packages/torch/utils/data/dataloader.py:624: UserWarning: This DataLoader will create 4 worker processes in total. Our suggested max number of worker in current system is 2, which is smaller than what this DataLoader is going to create. Please be aware that excessive worker creation might get DataLoader running slow or even freeze, lower the worker number to avoid potential slowness/freeze if necessary.\n",
            "  warnings.warn(\n",
            "/tmp/ipython-input-21-4199689982.py:12: FutureWarning: `torch.cuda.amp.autocast(args...)` is deprecated. Please use `torch.amp.autocast('cuda', args...)` instead.\n",
            "  with autocast():  # Autocast for mixed precision\n",
            "/tmp/ipython-input-21-4199689982.py:12: FutureWarning: `torch.cuda.amp.autocast(args...)` is deprecated. Please use `torch.amp.autocast('cuda', args...)` instead.\n",
            "  with autocast():  # Autocast for mixed precision\n",
            "/tmp/ipython-input-21-4199689982.py:12: FutureWarning: `torch.cuda.amp.autocast(args...)` is deprecated. Please use `torch.amp.autocast('cuda', args...)` instead.\n",
            "  with autocast():  # Autocast for mixed precision\n",
            "/tmp/ipython-input-21-4199689982.py:12: FutureWarning: `torch.cuda.amp.autocast(args...)` is deprecated. Please use `torch.amp.autocast('cuda', args...)` instead.\n",
            "  with autocast():  # Autocast for mixed precision\n",
            "/tmp/ipython-input-21-4199689982.py:12: FutureWarning: `torch.cuda.amp.autocast(args...)` is deprecated. Please use `torch.amp.autocast('cuda', args...)` instead.\n",
            "  with autocast():  # Autocast for mixed precision\n",
            "/tmp/ipython-input-21-4199689982.py:12: FutureWarning: `torch.cuda.amp.autocast(args...)` is deprecated. Please use `torch.amp.autocast('cuda', args...)` instead.\n",
            "  with autocast():  # Autocast for mixed precision\n",
            "/tmp/ipython-input-21-4199689982.py:12: FutureWarning: `torch.cuda.amp.autocast(args...)` is deprecated. Please use `torch.amp.autocast('cuda', args...)` instead.\n",
            "  with autocast():  # Autocast for mixed precision\n",
            "/tmp/ipython-input-21-4199689982.py:12: FutureWarning: `torch.cuda.amp.autocast(args...)` is deprecated. Please use `torch.amp.autocast('cuda', args...)` instead.\n",
            "  with autocast():  # Autocast for mixed precision\n",
            "/tmp/ipython-input-21-4199689982.py:12: FutureWarning: `torch.cuda.amp.autocast(args...)` is deprecated. Please use `torch.amp.autocast('cuda', args...)` instead.\n",
            "  with autocast():  # Autocast for mixed precision\n",
            "/tmp/ipython-input-21-4199689982.py:12: FutureWarning: `torch.cuda.amp.autocast(args...)` is deprecated. Please use `torch.amp.autocast('cuda', args...)` instead.\n",
            "  with autocast():  # Autocast for mixed precision\n",
            "/tmp/ipython-input-21-4199689982.py:12: FutureWarning: `torch.cuda.amp.autocast(args...)` is deprecated. Please use `torch.amp.autocast('cuda', args...)` instead.\n",
            "  with autocast():  # Autocast for mixed precision\n",
            "/tmp/ipython-input-21-4199689982.py:12: FutureWarning: `torch.cuda.amp.autocast(args...)` is deprecated. Please use `torch.amp.autocast('cuda', args...)` instead.\n",
            "  with autocast():  # Autocast for mixed precision\n",
            "/tmp/ipython-input-21-4199689982.py:12: FutureWarning: `torch.cuda.amp.autocast(args...)` is deprecated. Please use `torch.amp.autocast('cuda', args...)` instead.\n",
            "  with autocast():  # Autocast for mixed precision\n",
            "/tmp/ipython-input-21-4199689982.py:12: FutureWarning: `torch.cuda.amp.autocast(args...)` is deprecated. Please use `torch.amp.autocast('cuda', args...)` instead.\n",
            "  with autocast():  # Autocast for mixed precision\n",
            "/tmp/ipython-input-21-4199689982.py:12: FutureWarning: `torch.cuda.amp.autocast(args...)` is deprecated. Please use `torch.amp.autocast('cuda', args...)` instead.\n",
            "  with autocast():  # Autocast for mixed precision\n",
            "/tmp/ipython-input-21-4199689982.py:12: FutureWarning: `torch.cuda.amp.autocast(args...)` is deprecated. Please use `torch.amp.autocast('cuda', args...)` instead.\n",
            "  with autocast():  # Autocast for mixed precision\n"
          ]
        },
        {
          "output_type": "stream",
          "name": "stdout",
          "text": [
            "Epoch 3: Loss = 0.3440\n"
          ]
        },
        {
          "output_type": "stream",
          "name": "stderr",
          "text": [
            "/usr/local/lib/python3.11/dist-packages/torch/utils/data/dataloader.py:624: UserWarning: This DataLoader will create 4 worker processes in total. Our suggested max number of worker in current system is 2, which is smaller than what this DataLoader is going to create. Please be aware that excessive worker creation might get DataLoader running slow or even freeze, lower the worker number to avoid potential slowness/freeze if necessary.\n",
            "  warnings.warn(\n",
            "/tmp/ipython-input-21-4199689982.py:12: FutureWarning: `torch.cuda.amp.autocast(args...)` is deprecated. Please use `torch.amp.autocast('cuda', args...)` instead.\n",
            "  with autocast():  # Autocast for mixed precision\n",
            "/tmp/ipython-input-21-4199689982.py:12: FutureWarning: `torch.cuda.amp.autocast(args...)` is deprecated. Please use `torch.amp.autocast('cuda', args...)` instead.\n",
            "  with autocast():  # Autocast for mixed precision\n",
            "/tmp/ipython-input-21-4199689982.py:12: FutureWarning: `torch.cuda.amp.autocast(args...)` is deprecated. Please use `torch.amp.autocast('cuda', args...)` instead.\n",
            "  with autocast():  # Autocast for mixed precision\n",
            "/tmp/ipython-input-21-4199689982.py:12: FutureWarning: `torch.cuda.amp.autocast(args...)` is deprecated. Please use `torch.amp.autocast('cuda', args...)` instead.\n",
            "  with autocast():  # Autocast for mixed precision\n",
            "/tmp/ipython-input-21-4199689982.py:12: FutureWarning: `torch.cuda.amp.autocast(args...)` is deprecated. Please use `torch.amp.autocast('cuda', args...)` instead.\n",
            "  with autocast():  # Autocast for mixed precision\n",
            "/tmp/ipython-input-21-4199689982.py:12: FutureWarning: `torch.cuda.amp.autocast(args...)` is deprecated. Please use `torch.amp.autocast('cuda', args...)` instead.\n",
            "  with autocast():  # Autocast for mixed precision\n",
            "/tmp/ipython-input-21-4199689982.py:12: FutureWarning: `torch.cuda.amp.autocast(args...)` is deprecated. Please use `torch.amp.autocast('cuda', args...)` instead.\n",
            "  with autocast():  # Autocast for mixed precision\n",
            "/tmp/ipython-input-21-4199689982.py:12: FutureWarning: `torch.cuda.amp.autocast(args...)` is deprecated. Please use `torch.amp.autocast('cuda', args...)` instead.\n",
            "  with autocast():  # Autocast for mixed precision\n",
            "/tmp/ipython-input-21-4199689982.py:12: FutureWarning: `torch.cuda.amp.autocast(args...)` is deprecated. Please use `torch.amp.autocast('cuda', args...)` instead.\n",
            "  with autocast():  # Autocast for mixed precision\n",
            "/tmp/ipython-input-21-4199689982.py:12: FutureWarning: `torch.cuda.amp.autocast(args...)` is deprecated. Please use `torch.amp.autocast('cuda', args...)` instead.\n",
            "  with autocast():  # Autocast for mixed precision\n",
            "/tmp/ipython-input-21-4199689982.py:12: FutureWarning: `torch.cuda.amp.autocast(args...)` is deprecated. Please use `torch.amp.autocast('cuda', args...)` instead.\n",
            "  with autocast():  # Autocast for mixed precision\n",
            "/tmp/ipython-input-21-4199689982.py:12: FutureWarning: `torch.cuda.amp.autocast(args...)` is deprecated. Please use `torch.amp.autocast('cuda', args...)` instead.\n",
            "  with autocast():  # Autocast for mixed precision\n",
            "/tmp/ipython-input-21-4199689982.py:12: FutureWarning: `torch.cuda.amp.autocast(args...)` is deprecated. Please use `torch.amp.autocast('cuda', args...)` instead.\n",
            "  with autocast():  # Autocast for mixed precision\n",
            "/tmp/ipython-input-21-4199689982.py:12: FutureWarning: `torch.cuda.amp.autocast(args...)` is deprecated. Please use `torch.amp.autocast('cuda', args...)` instead.\n",
            "  with autocast():  # Autocast for mixed precision\n",
            "/tmp/ipython-input-21-4199689982.py:12: FutureWarning: `torch.cuda.amp.autocast(args...)` is deprecated. Please use `torch.amp.autocast('cuda', args...)` instead.\n",
            "  with autocast():  # Autocast for mixed precision\n"
          ]
        },
        {
          "output_type": "stream",
          "name": "stdout",
          "text": [
            "Epoch 4: Loss = 0.3208\n"
          ]
        },
        {
          "output_type": "stream",
          "name": "stderr",
          "text": [
            "/usr/local/lib/python3.11/dist-packages/torch/utils/data/dataloader.py:624: UserWarning: This DataLoader will create 4 worker processes in total. Our suggested max number of worker in current system is 2, which is smaller than what this DataLoader is going to create. Please be aware that excessive worker creation might get DataLoader running slow or even freeze, lower the worker number to avoid potential slowness/freeze if necessary.\n",
            "  warnings.warn(\n",
            "/tmp/ipython-input-21-4199689982.py:12: FutureWarning: `torch.cuda.amp.autocast(args...)` is deprecated. Please use `torch.amp.autocast('cuda', args...)` instead.\n",
            "  with autocast():  # Autocast for mixed precision\n",
            "/tmp/ipython-input-21-4199689982.py:12: FutureWarning: `torch.cuda.amp.autocast(args...)` is deprecated. Please use `torch.amp.autocast('cuda', args...)` instead.\n",
            "  with autocast():  # Autocast for mixed precision\n",
            "/tmp/ipython-input-21-4199689982.py:12: FutureWarning: `torch.cuda.amp.autocast(args...)` is deprecated. Please use `torch.amp.autocast('cuda', args...)` instead.\n",
            "  with autocast():  # Autocast for mixed precision\n",
            "/tmp/ipython-input-21-4199689982.py:12: FutureWarning: `torch.cuda.amp.autocast(args...)` is deprecated. Please use `torch.amp.autocast('cuda', args...)` instead.\n",
            "  with autocast():  # Autocast for mixed precision\n",
            "/tmp/ipython-input-21-4199689982.py:12: FutureWarning: `torch.cuda.amp.autocast(args...)` is deprecated. Please use `torch.amp.autocast('cuda', args...)` instead.\n",
            "  with autocast():  # Autocast for mixed precision\n",
            "/tmp/ipython-input-21-4199689982.py:12: FutureWarning: `torch.cuda.amp.autocast(args...)` is deprecated. Please use `torch.amp.autocast('cuda', args...)` instead.\n",
            "  with autocast():  # Autocast for mixed precision\n",
            "/tmp/ipython-input-21-4199689982.py:12: FutureWarning: `torch.cuda.amp.autocast(args...)` is deprecated. Please use `torch.amp.autocast('cuda', args...)` instead.\n",
            "  with autocast():  # Autocast for mixed precision\n",
            "/tmp/ipython-input-21-4199689982.py:12: FutureWarning: `torch.cuda.amp.autocast(args...)` is deprecated. Please use `torch.amp.autocast('cuda', args...)` instead.\n",
            "  with autocast():  # Autocast for mixed precision\n",
            "/tmp/ipython-input-21-4199689982.py:12: FutureWarning: `torch.cuda.amp.autocast(args...)` is deprecated. Please use `torch.amp.autocast('cuda', args...)` instead.\n",
            "  with autocast():  # Autocast for mixed precision\n",
            "/tmp/ipython-input-21-4199689982.py:12: FutureWarning: `torch.cuda.amp.autocast(args...)` is deprecated. Please use `torch.amp.autocast('cuda', args...)` instead.\n",
            "  with autocast():  # Autocast for mixed precision\n",
            "/tmp/ipython-input-21-4199689982.py:12: FutureWarning: `torch.cuda.amp.autocast(args...)` is deprecated. Please use `torch.amp.autocast('cuda', args...)` instead.\n",
            "  with autocast():  # Autocast for mixed precision\n",
            "/tmp/ipython-input-21-4199689982.py:12: FutureWarning: `torch.cuda.amp.autocast(args...)` is deprecated. Please use `torch.amp.autocast('cuda', args...)` instead.\n",
            "  with autocast():  # Autocast for mixed precision\n",
            "/tmp/ipython-input-21-4199689982.py:12: FutureWarning: `torch.cuda.amp.autocast(args...)` is deprecated. Please use `torch.amp.autocast('cuda', args...)` instead.\n",
            "  with autocast():  # Autocast for mixed precision\n",
            "/tmp/ipython-input-21-4199689982.py:12: FutureWarning: `torch.cuda.amp.autocast(args...)` is deprecated. Please use `torch.amp.autocast('cuda', args...)` instead.\n",
            "  with autocast():  # Autocast for mixed precision\n",
            "/tmp/ipython-input-21-4199689982.py:12: FutureWarning: `torch.cuda.amp.autocast(args...)` is deprecated. Please use `torch.amp.autocast('cuda', args...)` instead.\n",
            "  with autocast():  # Autocast for mixed precision\n",
            "/tmp/ipython-input-21-4199689982.py:12: FutureWarning: `torch.cuda.amp.autocast(args...)` is deprecated. Please use `torch.amp.autocast('cuda', args...)` instead.\n",
            "  with autocast():  # Autocast for mixed precision\n"
          ]
        },
        {
          "output_type": "stream",
          "name": "stdout",
          "text": [
            "Epoch 5: Loss = 0.3084\n"
          ]
        }
      ]
    },
    {
      "cell_type": "code",
      "source": [
        "#load parameters\n",
        "model.load_state_dict(torch.load('/content/drive/My Drive/Colab Notebooks/3d_segmentation.pth'))"
      ],
      "metadata": {
        "colab": {
          "base_uri": "https://localhost:8080/"
        },
        "id": "9vgD3J_vUTuJ",
        "outputId": "a3def3bf-84ea-47c1-a7c7-cabf075ed4cd"
      },
      "id": "9vgD3J_vUTuJ",
      "execution_count": 10,
      "outputs": [
        {
          "output_type": "execute_result",
          "data": {
            "text/plain": [
              "<All keys matched successfully>"
            ]
          },
          "metadata": {},
          "execution_count": 10
        }
      ]
    },
    {
      "cell_type": "code",
      "source": [
        "#function to predict mask using data\n",
        "def predict(model, image_tensor):\n",
        "    model.eval()\n",
        "    with torch.no_grad():\n",
        "        image_tensor = image_tensor.to(device).unsqueeze(0)  # Add batch dimension\n",
        "        output = model(image_tensor)\n",
        "        return output.cpu()\n",
        "\n",
        "#edit an image based on mask\n",
        "def maskEditing(image, mask, threshold=-0.5):\n",
        "    new_img = torch.tensor(image.copy())  # Create a new tensor from a NumPy copy\n",
        "    if not torch.is_tensor(mask):\n",
        "        mask = torch.tensor(mask)\n",
        "\n",
        "    for l in range(mask.size(2)):\n",
        "        for w in range(mask.size(1)):\n",
        "            if mask[0, w, l] < threshold:\n",
        "                new_img[:, w, l] = -1  #set background voxels to -1\n",
        "\n",
        "    return new_img  # return as numpy array to keep format consistent"
      ],
      "metadata": {
        "id": "h4HhpKppDSVR"
      },
      "id": "h4HhpKppDSVR",
      "execution_count": 11,
      "outputs": []
    },
    {
      "cell_type": "code",
      "source": [
        "slice_idx = 125  #index of one layer of head\n",
        "\n",
        "# Load the full 3D volume and mask\n",
        "full_inv2_volume = dataset[12][0]  # Shape: [1, D, H, W]\n",
        "full_mask_volume = dataset[12][1]  # Shape: [1, D, H, W]\n",
        "\n",
        "inv2mask_full = predict(model, full_inv2_volume) #Generate mask based on inv2 image\n",
        "\n",
        "# Select the desired slice from the original volume and the predicted mask\n",
        "inv2_slice = full_inv2_volume[:, slice_idx, :, :].numpy() # Shape: [1, H, W], slice of inv2 image\n",
        "mask_slice = full_mask_volume[:, slice_idx, :, :] # Shape: [1, H, W], slice of ground truth mask\n",
        "inv2mask_slice = inv2mask_full.squeeze(0)[:, slice_idx, :, :] # Shape: [1, H, W], slice of\n",
        "\n",
        "#load corresponding t1map image\n",
        "t1map = nib.load(\"/content/drive/My Drive/lemon_data/t1map_volumes/sub-032394_ses-01_acq-mp2rage_T1map.nii.gz\")\n",
        "t1mapdata = t1map.get_fdata()\n",
        "t1map_slice = t1mapdata[slice_idx, :, :] #get slice of t1map image\n",
        "\n",
        "binaryMask = (inv2mask_slice > -0.95).float() #create binary mask\n",
        "\n",
        "#edit t1map image based on mask\n",
        "edited_t1map = maskEditing(t1mapdata, binaryMask, threshold=0.05)\n",
        "edited_t1map_slice = edited_t1map[slice_idx, :, :]\n",
        "\n",
        "plt.subplot(1, 4, 1)\n",
        "plt.imshow(mask_slice.squeeze(0), cmap=\"gray\") #display ground truth mask\n",
        "plt.subplot(1, 4, 2)\n",
        "plt.imshow(binaryMask.squeeze(1).squeeze(0).squeeze(0), cmap=\"gray\") #display generated mask\n",
        "plt.subplot(1, 4, 3)\n",
        "plt.imshow(t1map_slice, cmap=\"gray\") #display original t1map image\n",
        "plt.subplot(1, 4, 4)\n",
        "plt.imshow(edited_t1map_slice, cmap=\"gray\") #display edited t1map image"
      ],
      "metadata": {
        "colab": {
          "base_uri": "https://localhost:8080/",
          "height": 184
        },
        "id": "JdbqLdo0GdGW",
        "outputId": "0b769ffe-7571-4810-dcae-f52e63b94e49"
      },
      "id": "JdbqLdo0GdGW",
      "execution_count": 12,
      "outputs": [
        {
          "output_type": "execute_result",
          "data": {
            "text/plain": [
              "<matplotlib.image.AxesImage at 0x7ff589cf37d0>"
            ]
          },
          "metadata": {},
          "execution_count": 12
        },
        {
          "output_type": "display_data",
          "data": {
            "text/plain": [
              "<Figure size 640x480 with 4 Axes>"
            ],
            "image/png": "[encoded data removed]"
          },
          "metadata": {}
        }
      ]
    }
  ],
  "metadata": {
    "kernelspec": {
      "display_name": "Python 3",
      "name": "python3"
    },
    "language_info": {
      "codemirror_mode": {
        "name": "ipython",
        "version": 3
      },
      "file_extension": ".py",
      "mimetype": "text/x-python",
      "name": "python",
      "nbconvert_exporter": "python",
      "pygments_lexer": "ipython3",
      "version": "3.9.12"
    },
    "colab": {
      "provenance": [],
      "gpuType": "T4"
    },
    "accelerator": "GPU"
  },
  "nbformat": 4,
  "nbformat_minor": 5
}